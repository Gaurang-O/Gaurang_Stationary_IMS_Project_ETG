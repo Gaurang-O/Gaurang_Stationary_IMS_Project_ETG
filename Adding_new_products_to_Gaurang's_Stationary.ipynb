{
  "nbformat": 4,
  "nbformat_minor": 0,
  "metadata": {
    "colab": {
      "name": "Adding new products to Gaurang's Stationary.ipynb",
      "provenance": [],
      "collapsed_sections": []
    },
    "kernelspec": {
      "name": "python3",
      "display_name": "Python 3"
    },
    "language_info": {
      "name": "python"
    }
  },
  "cells": [
    {
      "cell_type": "markdown",
      "metadata": {
        "id": "zv77P3B6BetO"
      },
      "source": [
        "**Welcome to** ***Gaurang_Stationary***"
      ]
    },
    {
      "cell_type": "markdown",
      "metadata": {
        "id": "wUS5AWYNCor8"
      },
      "source": [
        "**Read Data from JSON**"
      ]
    },
    {
      "cell_type": "code",
      "metadata": {
        "id": "-jOdQv4JBamH"
      },
      "source": [
        "import json\n",
        "import time"
      ],
      "execution_count": 108,
      "outputs": []
    },
    {
      "cell_type": "code",
      "metadata": {
        "id": "ozzug62-CCMo"
      },
      "source": [
        "fd = open(\"Gaurang_Stationary.json\",'r')\n",
        "r = fd.read()\n",
        "fd.close()\n",
        "\n",
        "Gaurang_Stationary_updated = json.loads(r)"
      ],
      "execution_count": 109,
      "outputs": []
    },
    {
      "cell_type": "code",
      "metadata": {
        "colab": {
          "base_uri": "https://localhost:8080/"
        },
        "id": "K3AwGRcMDDxN",
        "outputId": "a12489db-b32f-4808-d7c0-ff8ee9a9831d"
      },
      "source": [
        "Gaurang_Stationary_updated"
      ],
      "execution_count": 110,
      "outputs": [
        {
          "output_type": "execute_result",
          "data": {
            "text/plain": [
              "{'1001': {'name': 'marker pen', 'pr': 25, 'qn': 200},\n",
              " '1002': {'name': 'highlighter pen', 'pr': 30, 'qn': 225},\n",
              " '1003': {'name': 'writing pad', 'pr': 50, 'qn': 225},\n",
              " '1004': {'name': 'telephone directory', 'pr': 20, 'qn': 200},\n",
              " '1005': {'name': 'gift envelopes', 'pr': 15, 'qn': 180},\n",
              " '1006': {'name': 'dictionary', 'pr': 185, 'qn': 300},\n",
              " '1007': {'name': 'eraser', 'pr': 5, 'qn': 500},\n",
              " '1008': {'name': 'pencil sharpener', 'pr': 5, 'qn': 400},\n",
              " '1009': {'name': 'pencil box', 'pr': 50, 'qn': 450},\n",
              " '1010': {'name': 'plastic file folder', 'pr': 40, 'qn': 50},\n",
              " '1011': {'name': 'paper cobra file', 'pr': 30, 'qn': 10},\n",
              " '1012': {'name': 'stapler', 'pr': 130, 'qn': 100},\n",
              " '1013': {'name': 'stapler mini', 'pr': 75, 'qn': 60},\n",
              " '1014': {'name': 'staples', 'pr': 30, 'qn': 350},\n",
              " '1015': {'name': 'punching machine', 'pr': 185, 'qn': 30},\n",
              " '1016': {'name': 'cello ball pen', 'pr': 15, 'qn': 600},\n",
              " '1017': {'name': 'cello gel pen', 'pr': 20, 'qn': 450},\n",
              " '1018': {'name': 'scissor', 'pr': 120, 'qn': 140},\n",
              " '1019': {'name': 'paper cutter', 'pr': 85, 'qn': 90},\n",
              " '1020': {'name': 'cardboard sheet', 'pr': 60, 'qn': 270},\n",
              " '1021': {'name': 'packing cardboard roll', 'pr': 260, 'qn': 30},\n",
              " '1022': {'name': 'mount board sheet', 'pr': 75, 'qn': 130},\n",
              " '1023': {'name': 'craftpaper pack', 'pr': 35, 'qn': 370},\n",
              " '1024': {'name': 'rangila paint colour', 'pr': 60, 'qn': 210},\n",
              " '1025': {'name': 'postal colour', 'pr': 95, 'qn': 180},\n",
              " '1026': {'name': 'paint brush mini', 'pr': 110, 'qn': 330},\n",
              " '1027': {'name': 'paint brush big', 'pr': 80, 'qn': 140},\n",
              " '1028': {'name': 'foolscap paper pack', 'pr': 70, 'qn': 450},\n",
              " '1029': {'name': 'project paper pack', 'pr': 85, 'qn': 230},\n",
              " '1030': {'name': 'geometry kit set', 'pr': 160, 'qn': 210}}"
            ]
          },
          "metadata": {},
          "execution_count": 110
        }
      ]
    },
    {
      "cell_type": "markdown",
      "metadata": {
        "id": "opodF5s-G3k2"
      },
      "source": [
        "**Add New Item into Inventory**"
      ]
    },
    {
      "cell_type": "code",
      "metadata": {
        "id": "qdVniNWBN5TR"
      },
      "source": [
        "k = Gaurang_Stationary_updated.keys()"
      ],
      "execution_count": 111,
      "outputs": []
    },
    {
      "cell_type": "code",
      "metadata": {
        "colab": {
          "base_uri": "https://localhost:8080/"
        },
        "id": "SdHElzK8Gu0D",
        "outputId": "a6d73fe9-fb6a-4f57-ebd8-09ae3cec4eec"
      },
      "source": [
        "print(\"how many items do you want to add: \")\n",
        "no = int(input())\n",
        "for i in range(no):\n",
        "  prod_id = str(input(\"Enter product id:\"))\n",
        "  qan = int(input(\"Enter quantity:\"))\n",
        "\n",
        "  if (prod_id not in k):\n",
        "    name = str(input(\"Enter name:\"))\n",
        "    pr = int(input(\"Enter price:\"))\n",
        "    Gaurang_Stationary_updated[prod_id] = {'name': name, 'pr': pr, 'qn': qan}\n",
        "  else:\n",
        "    Gaurang_Stationary_updated[prod_id]['qn'] += qan\n",
        "    Gaurang_Stationary_updated[prod_id] = {'name': Gaurang_Stationary_updated[prod_id]['name'], 'pr': Gaurang_Stationary_updated[prod_id]['pr'], 'qn': Gaurang_Stationary_updated[prod_id]['qn']}\n",
        "\n",
        "  js = json.dumps(Gaurang_Stationary_updated)\n",
        "\n",
        "  fd = open(\"Gaurang_Stationary_updated.json\",'w')\n",
        "  fd.write(js)\n",
        "  fd.close()\n",
        "print(\"new products were added on:\",time.ctime())"
      ],
      "execution_count": null,
      "outputs": [
        {
          "output_type": "stream",
          "name": "stdout",
          "text": [
            "how many items do you want to add: \n",
            "4\n",
            "Enter product id:1003\n",
            "Enter quantity:25\n",
            "Enter product id:1031\n",
            "Enter quantity:120\n",
            "Enter name:calculator\n",
            "Enter price:110\n",
            "Enter product id:1005\n",
            "Enter quantity:50\n",
            "Enter product id:1032\n",
            "Enter quantity:250\n",
            "Enter name:fevicol\n",
            "Enter price:25\n",
            "new products were added on: Sat Sep  4 15:38:11 2021\n"
          ]
        }
      ]
    },
    {
      "cell_type": "code",
      "metadata": {
        "colab": {
          "base_uri": "https://localhost:8080/"
        },
        "id": "WWfCh9ZtTIyI",
        "outputId": "678cab81-d87e-4861-b816-ded7df76d0c3"
      },
      "source": [
        "print(\"updated inventory is: \")\n",
        "print(time.ctime())\n",
        "Gaurang_Stationary_updated"
      ],
      "execution_count": 113,
      "outputs": [
        {
          "output_type": "stream",
          "name": "stdout",
          "text": [
            "updated inventory is: \n",
            "Sat Sep  4 15:40:05 2021\n"
          ]
        },
        {
          "output_type": "execute_result",
          "data": {
            "text/plain": [
              "{'1001': {'name': 'marker pen', 'pr': 25, 'qn': 200},\n",
              " '1002': {'name': 'highlighter pen', 'pr': 30, 'qn': 225},\n",
              " '1003': {'name': 'writing pad', 'pr': 50, 'qn': 250},\n",
              " '1004': {'name': 'telephone directory', 'pr': 20, 'qn': 200},\n",
              " '1005': {'name': 'gift envelopes', 'pr': 15, 'qn': 230},\n",
              " '1006': {'name': 'dictionary', 'pr': 185, 'qn': 300},\n",
              " '1007': {'name': 'eraser', 'pr': 5, 'qn': 500},\n",
              " '1008': {'name': 'pencil sharpener', 'pr': 5, 'qn': 400},\n",
              " '1009': {'name': 'pencil box', 'pr': 50, 'qn': 450},\n",
              " '1010': {'name': 'plastic file folder', 'pr': 40, 'qn': 50},\n",
              " '1011': {'name': 'paper cobra file', 'pr': 30, 'qn': 10},\n",
              " '1012': {'name': 'stapler', 'pr': 130, 'qn': 100},\n",
              " '1013': {'name': 'stapler mini', 'pr': 75, 'qn': 60},\n",
              " '1014': {'name': 'staples', 'pr': 30, 'qn': 350},\n",
              " '1015': {'name': 'punching machine', 'pr': 185, 'qn': 30},\n",
              " '1016': {'name': 'cello ball pen', 'pr': 15, 'qn': 600},\n",
              " '1017': {'name': 'cello gel pen', 'pr': 20, 'qn': 450},\n",
              " '1018': {'name': 'scissor', 'pr': 120, 'qn': 140},\n",
              " '1019': {'name': 'paper cutter', 'pr': 85, 'qn': 90},\n",
              " '1020': {'name': 'cardboard sheet', 'pr': 60, 'qn': 270},\n",
              " '1021': {'name': 'packing cardboard roll', 'pr': 260, 'qn': 30},\n",
              " '1022': {'name': 'mount board sheet', 'pr': 75, 'qn': 130},\n",
              " '1023': {'name': 'craftpaper pack', 'pr': 35, 'qn': 370},\n",
              " '1024': {'name': 'rangila paint colour', 'pr': 60, 'qn': 210},\n",
              " '1025': {'name': 'postal colour', 'pr': 95, 'qn': 180},\n",
              " '1026': {'name': 'paint brush mini', 'pr': 110, 'qn': 330},\n",
              " '1027': {'name': 'paint brush big', 'pr': 80, 'qn': 140},\n",
              " '1028': {'name': 'foolscap paper pack', 'pr': 70, 'qn': 450},\n",
              " '1029': {'name': 'project paper pack', 'pr': 85, 'qn': 230},\n",
              " '1030': {'name': 'geometry kit set', 'pr': 160, 'qn': 210},\n",
              " '1031': {'name': 'calculator', 'pr': 110, 'qn': 120},\n",
              " '1032': {'name': 'fevicol', 'pr': 25, 'qn': 250}}"
            ]
          },
          "metadata": {},
          "execution_count": 113
        }
      ]
    },
    {
      "cell_type": "code",
      "metadata": {
        "id": "ph8Ji64ZTsB4"
      },
      "source": [
        ""
      ],
      "execution_count": null,
      "outputs": []
    }
  ]
}