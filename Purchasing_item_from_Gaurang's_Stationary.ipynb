{
  "nbformat": 4,
  "nbformat_minor": 0,
  "metadata": {
    "colab": {
      "name": "Purchasing item from Gaurang's Stationary.ipynb",
      "provenance": [],
      "collapsed_sections": []
    },
    "kernelspec": {
      "name": "python3",
      "display_name": "Python 3"
    },
    "language_info": {
      "name": "python"
    }
  },
  "cells": [
    {
      "cell_type": "markdown",
      "metadata": {
        "id": "0kHlVJ3K3TOT"
      },
      "source": [
        "**Welcome to** ***Gaurang_Stationary***"
      ]
    },
    {
      "cell_type": "markdown",
      "metadata": {
        "id": "ncSdHoMW3Uf3"
      },
      "source": [
        "**Read Inventory**"
      ]
    },
    {
      "cell_type": "code",
      "metadata": {
        "id": "nm_qYVQD8Gef"
      },
      "source": [
        "import json\n",
        "import time"
      ],
      "execution_count": 253,
      "outputs": []
    },
    {
      "cell_type": "code",
      "metadata": {
        "id": "jqh2_gTi0XoN"
      },
      "source": [
        "fd = open(\"Gaurang_Stationary_updated.json\",'r')\n",
        "r = fd.read()\n",
        "fd.close()\n",
        "\n",
        "Gaurang_Stationary_updated_after_purchase = json.loads(r)"
      ],
      "execution_count": 254,
      "outputs": []
    },
    {
      "cell_type": "code",
      "metadata": {
        "colab": {
          "base_uri": "https://localhost:8080/"
        },
        "id": "RCubHuPQ4r7W",
        "outputId": "c3bec7a7-f17f-4d23-a2fc-4b8a22ddec1e"
      },
      "source": [
        "Gaurang_Stationary_updated_after_purchase"
      ],
      "execution_count": 255,
      "outputs": [
        {
          "output_type": "execute_result",
          "data": {
            "text/plain": [
              "{'1001': {'name': 'marker pen', 'pr': 25, 'qn': 200},\n",
              " '1002': {'name': 'highlighter pen', 'pr': 30, 'qn': 225},\n",
              " '1003': {'name': 'writing pad', 'pr': 50, 'qn': 250},\n",
              " '1004': {'name': 'telephone directory', 'pr': 20, 'qn': 200},\n",
              " '1005': {'name': 'gift envelopes', 'pr': 15, 'qn': 230},\n",
              " '1006': {'name': 'dictionary', 'pr': 185, 'qn': 300},\n",
              " '1007': {'name': 'eraser', 'pr': 5, 'qn': 500},\n",
              " '1008': {'name': 'pencil sharpener', 'pr': 5, 'qn': 400},\n",
              " '1009': {'name': 'pencil box', 'pr': 50, 'qn': 450},\n",
              " '1010': {'name': 'plastic file folder', 'pr': 40, 'qn': 50},\n",
              " '1011': {'name': 'paper cobra file', 'pr': 30, 'qn': 10},\n",
              " '1012': {'name': 'stapler', 'pr': 130, 'qn': 100},\n",
              " '1013': {'name': 'stapler mini', 'pr': 75, 'qn': 60},\n",
              " '1014': {'name': 'staples', 'pr': 30, 'qn': 350},\n",
              " '1015': {'name': 'punching machine', 'pr': 185, 'qn': 30},\n",
              " '1016': {'name': 'cello ball pen', 'pr': 15, 'qn': 600},\n",
              " '1017': {'name': 'cello gel pen', 'pr': 20, 'qn': 450},\n",
              " '1018': {'name': 'scissor', 'pr': 120, 'qn': 140},\n",
              " '1019': {'name': 'paper cutter', 'pr': 85, 'qn': 90},\n",
              " '1020': {'name': 'cardboard sheet', 'pr': 60, 'qn': 270},\n",
              " '1021': {'name': 'packing cardboard roll', 'pr': 260, 'qn': 30},\n",
              " '1022': {'name': 'mount board sheet', 'pr': 75, 'qn': 130},\n",
              " '1023': {'name': 'craftpaper pack', 'pr': 35, 'qn': 370},\n",
              " '1024': {'name': 'rangila paint colour', 'pr': 60, 'qn': 210},\n",
              " '1025': {'name': 'postal colour', 'pr': 95, 'qn': 180},\n",
              " '1026': {'name': 'paint brush mini', 'pr': 110, 'qn': 330},\n",
              " '1027': {'name': 'paint brush big', 'pr': 80, 'qn': 140},\n",
              " '1028': {'name': 'foolscap paper pack', 'pr': 70, 'qn': 450},\n",
              " '1029': {'name': 'project paper pack', 'pr': 85, 'qn': 230},\n",
              " '1030': {'name': 'geometry kit set', 'pr': 160, 'qn': 210},\n",
              " '1031': {'name': 'calculator', 'pr': 110, 'qn': 120},\n",
              " '1032': {'name': 'fevicol', 'pr': 25, 'qn': 250}}"
            ]
          },
          "metadata": {},
          "execution_count": 255
        }
      ]
    },
    {
      "cell_type": "code",
      "metadata": {
        "colab": {
          "base_uri": "https://localhost:8080/"
        },
        "id": "9rJNQmLk88FD",
        "outputId": "5731ffa3-9ecb-484d-f37a-8ac2df570180"
      },
      "source": [
        "print(\"Gaurang's Stationary\")\n",
        "print(\"************MENU*************\",end=\"\\n\\n\")\n",
        "print(\"*product_id*    *product_name*\",end=\"\\n\\n\")\n",
        "for i in Gaurang_Stationary_updated_after_purchase.keys():\n",
        "    print(i,\"        \",Gaurang_Stationary_updated_after_purchase[i]['name'])\n",
        "print(\"******************************\") "
      ],
      "execution_count": 256,
      "outputs": [
        {
          "output_type": "stream",
          "name": "stdout",
          "text": [
            "Gaurang's Stationary\n",
            "************MENU*************\n",
            "\n",
            "*product_id*    *product_name*\n",
            "\n",
            "1001          marker pen\n",
            "1002          highlighter pen\n",
            "1003          writing pad\n",
            "1004          telephone directory\n",
            "1005          gift envelopes\n",
            "1006          dictionary\n",
            "1007          eraser\n",
            "1008          pencil sharpener\n",
            "1009          pencil box\n",
            "1010          plastic file folder\n",
            "1011          paper cobra file\n",
            "1012          stapler\n",
            "1013          stapler mini\n",
            "1014          staples\n",
            "1015          punching machine\n",
            "1016          cello ball pen\n",
            "1017          cello gel pen\n",
            "1018          scissor\n",
            "1019          paper cutter\n",
            "1020          cardboard sheet\n",
            "1021          packing cardboard roll\n",
            "1022          mount board sheet\n",
            "1023          craftpaper pack\n",
            "1024          rangila paint colour\n",
            "1025          postal colour\n",
            "1026          paint brush mini\n",
            "1027          paint brush big\n",
            "1028          foolscap paper pack\n",
            "1029          project paper pack\n",
            "1030          geometry kit set\n",
            "1031          calculator\n",
            "1032          fevicol\n",
            "******************************\n"
          ]
        }
      ]
    },
    {
      "cell_type": "markdown",
      "metadata": {
        "id": "s9t5D4KC4tEs"
      },
      "source": [
        "**Purchase**"
      ]
    },
    {
      "cell_type": "code",
      "metadata": {
        "id": "ujRWJBrScmnI"
      },
      "source": [
        "k = Gaurang_Stationary_updated_after_purchase.keys()"
      ],
      "execution_count": 257,
      "outputs": []
    },
    {
      "cell_type": "code",
      "metadata": {
        "colab": {
          "base_uri": "https://localhost:8080/"
        },
        "id": "tqypMvXp40nu",
        "outputId": "1b63ba9d-397f-4469-99ba-5dea0b3a9cc9"
      },
      "source": [
        "tot = 0\n",
        "print(\"how many items do you want to buy: \")\n",
        "no = int(input())\n",
        "bill = {prod_id: {'name': [], 'pr': [], 'qn': [], 'total': []}}\n",
        "for i in range(no):\n",
        "  prod_id = str(input(\"Enter product id:\"))\n",
        "\n",
        "  if (prod_id not in k):\n",
        "    print(\"Entered wrong product id,  Please enter valid product id \")\n",
        "    prod_id = str(input(\"Enter product id:\"))\n",
        "  qan = int(input(\"Enter quantity:\"))\n",
        "\n",
        "  if (Gaurang_Stationary_updated_after_purchase[prod_id]['qn'] >= qan):\n",
        "    #bill['id'] = prod_id\n",
        "    amt = Gaurang_Stationary_updated_after_purchase[prod_id]['pr'] * qan\n",
        "    bill[prod_id] = {'name': Gaurang_Stationary_updated_after_purchase[prod_id]['name'], 'pr': Gaurang_Stationary_updated_after_purchase[prod_id]['pr'], 'qn': qan, 'total': amt}\n",
        "    tot += Gaurang_Stationary_updated_after_purchase[prod_id]['pr'] * qan\n",
        "\n",
        "  else:\n",
        "    print(\"your entered product quantity is not available in inventory, please enter again:\")\n",
        "    qan = int(input(\"Enter quantity:\"))\n",
        "    #bill['id'] = prod_id\n",
        "    amt = Gaurang_Stationary_updated_after_purchase[prod_id]['pr'] * qan\n",
        "    bill[prod_id] = {'name': Gaurang_Stationary_updated_after_purchase[prod_id]['name'], 'pr': Gaurang_Stationary_updated_after_purchase[prod_id]['pr'], 'qn': qan, 'total': amt}\n",
        "    tot += Gaurang_Stationary_updated_after_purchase[prod_id]['pr'] * qan\n",
        "\n",
        "  Gaurang_Stationary_updated_after_purchase[prod_id]['qn'] -= qan\n"
      ],
      "execution_count": 258,
      "outputs": [
        {
          "name": "stdout",
          "output_type": "stream",
          "text": [
            "how many items do you want to buy: \n",
            "3\n",
            "Enter product id:1004\n",
            "Enter quantity:45\n",
            "Enter product id:1010\n",
            "Enter quantity:15\n",
            "Enter product id:1028\n",
            "Enter quantity:75\n"
          ]
        }
      ]
    },
    {
      "cell_type": "code",
      "metadata": {
        "colab": {
          "base_uri": "https://localhost:8080/"
        },
        "id": "4v6QGRm224b_",
        "outputId": "035758b5-0c21-496b-c715-8193100589c6"
      },
      "source": [
        "ke = bill.keys()\n",
        "print(\"------------------------------Gaurang's Stationary-------------------------------------------------------------\")\n",
        "print(\"                       ****\",time.ctime(),\"****\", end=\"\\n\\n\")\n",
        "print(\"Product details of id       Product                           Price      Quantity       total amount of product\")\n",
        "print(\"---------------------------------------------------------------------------------------------------------------\")\n",
        "for i in ke:\n",
        "  print(i,\"                      \",bill[i]['name'],\"             \",bill[i]['pr'],\"       \",bill[i]['qn'],\"           \",bill[i]['total'])\n",
        "\n",
        "print(\"---------------------------------------------------------------------------------------------------------------\")\n",
        "print(\"                                                                         total bill:   \", tot, end=\"\\n\\n\")\n",
        "print(\"---------------------------------------------------------------------------------------------------------------\")\n",
        "print(\"                                    Thank You\")\n",
        "print(\"                            Goods Sales can not return\")"
      ],
      "execution_count": 259,
      "outputs": [
        {
          "output_type": "stream",
          "name": "stdout",
          "text": [
            "------------------------------Gaurang's Stationary-------------------------------------------------------------\n",
            "                       **** Sun Sep  5 09:02:38 2021 ****\n",
            "\n",
            "Product details of id       Product                           Price      Quantity       total amount of product\n",
            "---------------------------------------------------------------------------------------------------------------\n",
            "1028                        foolscap paper pack               70         75             5250\n",
            "1004                        telephone directory               20         45             900\n",
            "1010                        plastic file folder               40         15             600\n",
            "---------------------------------------------------------------------------------------------------------------\n",
            "                                                                         total bill:    6750\n",
            "\n",
            "---------------------------------------------------------------------------------------------------------------\n",
            "                                    Thank You\n",
            "                            Goods Sales can not return\n"
          ]
        }
      ]
    },
    {
      "cell_type": "markdown",
      "metadata": {
        "id": "Fg86KCsb5P2R"
      },
      "source": [
        "**Update Inventory after purchase**"
      ]
    },
    {
      "cell_type": "code",
      "metadata": {
        "id": "F_NJYNTS5Ihg"
      },
      "source": [
        "js = json.dumps(Gaurang_Stationary_updated_after_purchase)\n",
        "\n",
        "fd = open(\"Gaurang_Stationary_updated_after_purchase.json\",'w')\n",
        "fd.write(js)\n",
        "fd.close()"
      ],
      "execution_count": 260,
      "outputs": []
    },
    {
      "cell_type": "code",
      "metadata": {
        "colab": {
          "base_uri": "https://localhost:8080/"
        },
        "id": "qxx59tzvgvGg",
        "outputId": "7b5a92ea-dbb4-42e4-fcdc-c677b6fbc8e0"
      },
      "source": [
        "Gaurang_Stationary_updated_after_purchase"
      ],
      "execution_count": 261,
      "outputs": [
        {
          "output_type": "execute_result",
          "data": {
            "text/plain": [
              "{'1001': {'name': 'marker pen', 'pr': 25, 'qn': 200},\n",
              " '1002': {'name': 'highlighter pen', 'pr': 30, 'qn': 225},\n",
              " '1003': {'name': 'writing pad', 'pr': 50, 'qn': 250},\n",
              " '1004': {'name': 'telephone directory', 'pr': 20, 'qn': 155},\n",
              " '1005': {'name': 'gift envelopes', 'pr': 15, 'qn': 230},\n",
              " '1006': {'name': 'dictionary', 'pr': 185, 'qn': 300},\n",
              " '1007': {'name': 'eraser', 'pr': 5, 'qn': 500},\n",
              " '1008': {'name': 'pencil sharpener', 'pr': 5, 'qn': 400},\n",
              " '1009': {'name': 'pencil box', 'pr': 50, 'qn': 450},\n",
              " '1010': {'name': 'plastic file folder', 'pr': 40, 'qn': 35},\n",
              " '1011': {'name': 'paper cobra file', 'pr': 30, 'qn': 10},\n",
              " '1012': {'name': 'stapler', 'pr': 130, 'qn': 100},\n",
              " '1013': {'name': 'stapler mini', 'pr': 75, 'qn': 60},\n",
              " '1014': {'name': 'staples', 'pr': 30, 'qn': 350},\n",
              " '1015': {'name': 'punching machine', 'pr': 185, 'qn': 30},\n",
              " '1016': {'name': 'cello ball pen', 'pr': 15, 'qn': 600},\n",
              " '1017': {'name': 'cello gel pen', 'pr': 20, 'qn': 450},\n",
              " '1018': {'name': 'scissor', 'pr': 120, 'qn': 140},\n",
              " '1019': {'name': 'paper cutter', 'pr': 85, 'qn': 90},\n",
              " '1020': {'name': 'cardboard sheet', 'pr': 60, 'qn': 270},\n",
              " '1021': {'name': 'packing cardboard roll', 'pr': 260, 'qn': 30},\n",
              " '1022': {'name': 'mount board sheet', 'pr': 75, 'qn': 130},\n",
              " '1023': {'name': 'craftpaper pack', 'pr': 35, 'qn': 370},\n",
              " '1024': {'name': 'rangila paint colour', 'pr': 60, 'qn': 210},\n",
              " '1025': {'name': 'postal colour', 'pr': 95, 'qn': 180},\n",
              " '1026': {'name': 'paint brush mini', 'pr': 110, 'qn': 330},\n",
              " '1027': {'name': 'paint brush big', 'pr': 80, 'qn': 140},\n",
              " '1028': {'name': 'foolscap paper pack', 'pr': 70, 'qn': 375},\n",
              " '1029': {'name': 'project paper pack', 'pr': 85, 'qn': 230},\n",
              " '1030': {'name': 'geometry kit set', 'pr': 160, 'qn': 210},\n",
              " '1031': {'name': 'calculator', 'pr': 110, 'qn': 120},\n",
              " '1032': {'name': 'fevicol', 'pr': 25, 'qn': 250}}"
            ]
          },
          "metadata": {},
          "execution_count": 261
        }
      ]
    },
    {
      "cell_type": "markdown",
      "metadata": {
        "id": "T0906dEu5knk"
      },
      "source": [
        "**Sales JSON**"
      ]
    },
    {
      "cell_type": "code",
      "metadata": {
        "id": "PT_6UjQM5fpI",
        "colab": {
          "base_uri": "https://localhost:8080/"
        },
        "outputId": "b3d4cc6b-1a9a-44c3-82d1-cead7de8fedd"
      },
      "source": [
        "print(\"sales of: \",time.ctime())\n",
        "js = json.dumps(bill)\n",
        "fd = open(\"Gaurang_Stationary_Sales.json\",'w')\n",
        "fd.write(js)\n",
        "fd.close()"
      ],
      "execution_count": 262,
      "outputs": [
        {
          "output_type": "stream",
          "name": "stdout",
          "text": [
            "sales of:  Sun Sep  5 09:02:54 2021\n"
          ]
        }
      ]
    },
    {
      "cell_type": "code",
      "metadata": {
        "id": "RsCwJvsP5rBi"
      },
      "source": [
        "fd = open(\"Gaurang_Stationary_Sales.json\", 'r')\n",
        "g = fd.read()\n",
        "fd.close()"
      ],
      "execution_count": 263,
      "outputs": []
    },
    {
      "cell_type": "code",
      "metadata": {
        "id": "oiWYVK715v1m",
        "colab": {
          "base_uri": "https://localhost:8080/",
          "height": 52
        },
        "outputId": "fc6514d0-8bcb-4262-a3ca-518c7f778a7d"
      },
      "source": [
        "g"
      ],
      "execution_count": 264,
      "outputs": [
        {
          "output_type": "execute_result",
          "data": {
            "application/vnd.google.colaboratory.intrinsic+json": {
              "type": "string"
            },
            "text/plain": [
              "'{\"1028\": {\"name\": \"foolscap paper pack\", \"pr\": 70, \"qn\": 75, \"total\": 5250}, \"1004\": {\"name\": \"telephone directory\", \"pr\": 20, \"qn\": 45, \"total\": 900}, \"1010\": {\"name\": \"plastic file folder\", \"pr\": 40, \"qn\": 15, \"total\": 600}}'"
            ]
          },
          "metadata": {},
          "execution_count": 264
        }
      ]
    },
    {
      "cell_type": "code",
      "metadata": {
        "id": "DmjYn4yz51op"
      },
      "source": [
        "del bill"
      ],
      "execution_count": 265,
      "outputs": []
    },
    {
      "cell_type": "code",
      "metadata": {
        "id": "dYgzzbBHFex0"
      },
      "source": [
        ""
      ],
      "execution_count": null,
      "outputs": []
    }
  ]
}